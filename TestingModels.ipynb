{
 "cells": [
  {
   "attachments": {},
   "cell_type": "markdown",
   "metadata": {},
   "source": [
    "# Testing out different models"
   ]
  },
  {
   "attachments": {},
   "cell_type": "markdown",
   "metadata": {},
   "source": [
    "We need to now decide which model will be the most appropriate for this task. We have labeled data so we will focus on supervised learning models."
   ]
  },
  {
   "attachments": {},
   "cell_type": "markdown",
   "metadata": {},
   "source": [
    "### Importing the packages"
   ]
  },
  {
   "cell_type": "code",
   "execution_count": 18,
   "metadata": {},
   "outputs": [],
   "source": [
    "import sklearn\n",
    "import numpy as np\n",
    "import pandas as pd\n",
    "import matplotlib.pyplot as plt\n",
    "import seaborn as sns                                       \n",
    "from sklearn.preprocessing import LabelEncoder\n",
    "import pandas as pd"
   ]
  },
  {
   "attachments": {},
   "cell_type": "markdown",
   "metadata": {},
   "source": [
    "### Data preprocessing"
   ]
  },
  {
   "cell_type": "code",
   "execution_count": 60,
   "metadata": {},
   "outputs": [],
   "source": [
    "num_vars = ['Age', 'RoomService', 'FoodCourt', 'ShoppingMall', 'Spa', 'VRDeck']\n",
    "\n",
    "def input_transform(df_og, impute=True, no_nans = False):\n",
    "    df = df_og.copy()\n",
    "    \n",
    "    if impute:\n",
    "        ## We replace the missing values by the median of the numerical columns and the log transform\n",
    "        # to normalize\n",
    "        df[num_vars] = df[num_vars].apply(lambda col: col.fillna(col.median()), axis=0)\n",
    "        df[num_vars[1:]] = df[num_vars[1:]].apply(lambda col: np.where(col > 0, np.log(col), col), \n",
    "                                                axis=0)\n",
    "    \n",
    "        # Everyone under 18 without a VIP status is assigned as non-VIP \n",
    "        df.VIP[(df.VIP.isnull()) & (df.Age<18)] = False\n",
    "\n",
    "    ## We create interaction terms by separating PassengerId and uniting HomePlanet/Destination\n",
    "    df[['GroupID', 'PartySize']] = df['PassengerId'].str.split('_', expand=True).astype(int)\n",
    "    df['PartySize'] = df.groupby('GroupID')['PartySize'].transform('max')\n",
    "    df[['Deck', 'RoomNbr','Side']] = df['Cabin'].str.split('/', expand=True)\n",
    "    df['Road'] = df['HomePlanet'] + '_' + df['Destination']\n",
    "\n",
    "    ## We drop all unique identifiers that do not bring any information\n",
    "    df.drop(['HomePlanet','Destination','PassengerId', 'Name', 'Cabin', 'RoomNbr'], \n",
    "            axis=1, inplace=True)\n",
    "    \n",
    "    ## We label encode the categorical variables: Deck letter and the new Road variable\n",
    "    le_Deck = LabelEncoder()\n",
    "    le_Deck.fit(df.Deck)\n",
    "    df['Deck'] = le_Deck.transform(df.Deck)\n",
    "    le_Road = LabelEncoder()\n",
    "    le_Road.fit(df.Road)\n",
    "    df['Road'] = le_Road.transform(df.Road)\n",
    "\n",
    "    ## All the binary categorical variables are transform into binary values\n",
    "    df['CryoSleep'] = df['CryoSleep'].map({True: 1, False: 0})\n",
    "    if impute:\n",
    "        df['VIP'] = df['VIP'].map({True: 1, False: 0}).fillna(0)\n",
    "    else:\n",
    "        df['VIP'] = df['VIP'].map({True: 1, False: 0})\n",
    "    df['Side'] = df['Side'].map({'P': 1, 'S': 0})\n",
    "    if no_nans:\n",
    "        df.dropna(inplace=True)\n",
    "    return(df.drop('Transported',axis=1), df.Transported)"
   ]
  },
  {
   "cell_type": "code",
   "execution_count": 61,
   "metadata": {},
   "outputs": [],
   "source": [
    "df_og = pd.read_csv('train.csv')"
   ]
  },
  {
   "attachments": {},
   "cell_type": "markdown",
   "metadata": {},
   "source": [
    "## Logistic Regression"
   ]
  },
  {
   "attachments": {},
   "cell_type": "markdown",
   "metadata": {},
   "source": [
    "We want to predict a binary value (transported or not)"
   ]
  },
  {
   "cell_type": "code",
   "execution_count": 63,
   "metadata": {},
   "outputs": [
    {
     "name": "stderr",
     "output_type": "stream",
     "text": [
      "/Users/johannawahn/opt/anaconda3/envs/MachineLearning/lib/python3.11/site-packages/pandas/core/arraylike.py:402: RuntimeWarning: divide by zero encountered in log\n",
      "  result = getattr(ufunc, method)(*inputs, **kwargs)\n",
      "/var/folders/6h/8sfx_lvj7qqcb000hqw9cckw0000gn/T/ipykernel_8311/3316866364.py:14: SettingWithCopyWarning: \n",
      "A value is trying to be set on a copy of a slice from a DataFrame\n",
      "\n",
      "See the caveats in the documentation: https://pandas.pydata.org/pandas-docs/stable/user_guide/indexing.html#returning-a-view-versus-a-copy\n",
      "  df.VIP[(df.VIP.isnull()) & (df.Age<18)] = False\n"
     ]
    }
   ],
   "source": [
    "X,y = input_transform(df_og, no_nans=True)"
   ]
  },
  {
   "cell_type": "code",
   "execution_count": 65,
   "metadata": {},
   "outputs": [
    {
     "name": "stderr",
     "output_type": "stream",
     "text": [
      "/Users/johannawahn/opt/anaconda3/envs/MachineLearning/lib/python3.11/site-packages/sklearn/linear_model/_logistic.py:458: ConvergenceWarning: lbfgs failed to converge (status=1):\n",
      "STOP: TOTAL NO. of ITERATIONS REACHED LIMIT.\n",
      "\n",
      "Increase the number of iterations (max_iter) or scale the data as shown in:\n",
      "    https://scikit-learn.org/stable/modules/preprocessing.html\n",
      "Please also refer to the documentation for alternative solver options:\n",
      "    https://scikit-learn.org/stable/modules/linear_model.html#logistic-regression\n",
      "  n_iter_i = _check_optimize_result(\n"
     ]
    }
   ],
   "source": [
    "from sklearn.linear_model import LogisticRegression\n",
    "\n",
    "X = X.dropna()\n",
    "clf = LogisticRegression(random_state=0).fit(X,y)\n",
    "preds = clf.predict(X)"
   ]
  },
  {
   "cell_type": "code",
   "execution_count": 74,
   "metadata": {},
   "outputs": [
    {
     "data": {
      "image/png": "[encoded data removed]",
      "text/plain": [
       "<Figure size 640x480 with 2 Axes>"
      ]
     },
     "metadata": {},
     "output_type": "display_data"
    },
    {
     "name": "stdout",
     "output_type": "stream",
     "text": [
      "Accuracy: 0.7669000482858522\n",
      "Precision: 0.7491675915649278\n"
     ]
    }
   ],
   "source": [
    "from sklearn.metrics import confusion_matrix as cm \n",
    "from sklearn.metrics import ConfusionMatrixDisplay, accuracy_score, precision_score\n",
    "\n",
    "cmatrix = cm(y,preds)\n",
    "ConfusionMatrixDisplay(cmatrix, display_labels = ['Not zapped', 'Zapped']).plot()\n",
    "plt.show()\n",
    "\n",
    "print(f'Accuracy: {accuracy_score(y, preds)}')\n",
    "print(f'Precision: {precision_score(y,preds)}')"
   ]
  },
  {
   "attachments": {},
   "cell_type": "markdown",
   "metadata": {},
   "source": [
    "Overall not that good of a result... but not all that terrible! Could have been due to all of the imputations we did.\n",
    "Let's try another model!"
   ]
  },
  {
   "attachments": {},
   "cell_type": "markdown",
   "metadata": {},
   "source": [
    "## Decision tree"
   ]
  },
  {
   "attachments": {},
   "cell_type": "markdown",
   "metadata": {},
   "source": []
  }
 ],
 "metadata": {
  "kernelspec": {
   "display_name": "MachineLearning",
   "language": "python",
   "name": "python3"
  },
  "language_info": {
   "codemirror_mode": {
    "name": "ipython",
    "version": 3
   },
   "file_extension": ".py",
   "mimetype": "text/x-python",
   "name": "python",
   "nbconvert_exporter": "python",
   "pygments_lexer": "ipython3",
   "version": "3.11.0"
  },
  "orig_nbformat": 4
 },
 "nbformat": 4,
 "nbformat_minor": 2
}
